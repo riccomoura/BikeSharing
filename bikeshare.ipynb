{
  "nbformat": 4,
  "nbformat_minor": 0,
  "metadata": {
    "colab": {
      "name": "bikeshare.ipynb",
      "provenance": [],
      "mount_file_id": "1JHHrkE26L5j4mvGJ_KORzwqxED0RZ2h5",
      "authorship_tag": "ABX9TyMt5Nw23lmsS2DMnAFVgoor",
      "include_colab_link": true
    },
    "kernelspec": {
      "name": "python3",
      "display_name": "Python 3"
    },
    "language_info": {
      "name": "python"
    }
  },
  "cells": [
    {
      "cell_type": "markdown",
      "metadata": {
        "id": "view-in-github",
        "colab_type": "text"
      },
      "source": [
        "<a href=\"https://colab.research.google.com/github/riccomoura/BikeSharing/blob/main/bikeshare.ipynb\" target=\"_parent\"><img src=\"https://colab.research.google.com/assets/colab-badge.svg\" alt=\"Open In Colab\"/></a>"
      ]
    },
    {
      "cell_type": "markdown",
      "metadata": {
        "id": "wEw6QcYyCWoH"
      },
      "source": [
        "# **Bike Share System**\n",
        "\n",
        "##***Operação***\n",
        "\n",
        "O sistema de bike sharing se traduz por aluguel de bicicletas onde o processo de obtenção da assinatura, aluguel e devolução é automatizado através de uma rede de quiosques localizados em diversos pontos de uma cidade.\n",
        "\n",
        "## ***Conceito***\n",
        "\n",
        "Utilizando esse sistema, pessoas estão aptas a alugar uma bicicleta a partir de um local e devolvê-las à diferentes locais que necessariamente servem como bases.\n",
        "\n",
        "##***Dados***\n",
        "\n",
        "Os dados gerados por esses sistemas os tornam atraentes para pesquisadores por causa da duração de uma viagem, local de partida, local de entrega e o tempo consumido que é explícitamente registrado. Portanto, o sistema de Bike Sharing (compartilhamento de bicicletas) tem por função a uma rede sensorial que pode ser usada para estudar as condições de mobilidade de uma cidade. \n",
        "\n",
        "##***Objetivo do teste***\n",
        "\n",
        "\n",
        "\n",
        "*   Análise exploratória dos dados obtidos através dos arquivos CSV;\n",
        "*   Exibir gráficos com padrões de consumo;\n",
        "*   Mostrar correlações de dados como condições climáticas e padrões no histórico de uso das bicicletas a partir das variáveis;\n",
        "*   Extra: criar um modelo preditivo para calcular a demanda do serviço afim de sugerir tomada de decisões a cerca do modelo de negócio e sua expansão ou retração futura.\n",
        "\n",
        "##***Progressão do desenvolvimento***\n",
        "\n",
        "*   Etapa 1: Exibição de Dados\n",
        "*   Etapa 2: Análise e Correlação\n",
        "*   Etapa 3: Exibição de gráficos\n",
        "*   Etapa 4: Conclusões finais ou Modelo Preditivo\n",
        "\n",
        "\n",
        "\n",
        "\n",
        "\n"
      ]
    },
    {
      "cell_type": "markdown",
      "metadata": {
        "id": "8hps8cOzKB_M"
      },
      "source": [
        "# **Etapa 1 - Exibição de Dados**\n",
        "\n",
        "*   ***Importar base de dados***\n",
        "*   ***Concluir premissas básicas***\n",
        "\n"
      ]
    },
    {
      "cell_type": "markdown",
      "metadata": {
        "id": "cF6PglUHbVd1"
      },
      "source": [
        "### ***Exibindo dados***"
      ]
    },
    {
      "cell_type": "code",
      "metadata": {
        "id": "Vzqu7cGjaw7i"
      },
      "source": [
        "import pandas as pd"
      ],
      "execution_count": 41,
      "outputs": []
    },
    {
      "cell_type": "markdown",
      "metadata": {
        "id": "7CyVt32ALCFT"
      },
      "source": [
        "**Tabela Test**\n",
        "\n",
        "6493 entradas e 9 colunas:\n",
        "\n",
        "\n",
        "*   Index\n",
        "*   Datetime\n",
        "*   Season\n",
        "*   Holiday\n",
        "*   Working Day\n",
        "*   Temp\n",
        "*   aTemp\n",
        "*   Humidity\n",
        "*   Windspeed\n",
        "\n"
      ]
    },
    {
      "cell_type": "code",
      "metadata": {
        "id": "6uiNoVGPKk1M"
      },
      "source": [
        "tabela_test = pd.read_csv(\"/content/drive/MyDrive/Colab Notebooks/test.csv\")\n",
        "display(tabela_test)\n",
        "\n"
      ],
      "execution_count": null,
      "outputs": []
    },
    {
      "cell_type": "markdown",
      "metadata": {
        "id": "qJDyNvVYLyVe"
      },
      "source": [
        "**Tabela Train**\n",
        "\n",
        "10886 entradas e 12 colunas:\n",
        "\n",
        "\n",
        "*   Index\n",
        "*   Datetime\n",
        "*   Season\n",
        "*   Holiday\n",
        "*   Working Day\n",
        "*   Temp\n",
        "*   aTemp\n",
        "*   Humidity\n",
        "*   Windspeed\n",
        "*   Casual\n",
        "*   Registered\n",
        "*   Count"
      ]
    },
    {
      "cell_type": "code",
      "metadata": {
        "id": "wkADB-7qL005"
      },
      "source": [
        "tabela_train = pd.read_csv(\"/content/drive/MyDrive/Colab Notebooks/train.csv\")\n",
        "display(tabela_train)"
      ],
      "execution_count": null,
      "outputs": []
    },
    {
      "cell_type": "markdown",
      "metadata": {
        "id": "0mCaKEwKNr4l"
      },
      "source": [
        "### ***Premissas***\n",
        "\n",
        "*   Tabela test (dados de teste);\n",
        "*   Tabela train (dados de treinamento);\n",
        "*   Coleção de dados ao longo de 2 anos;\n",
        "*   Estações do ano representadas por números (1 = primavera, 2 = verão, 3 = outono, 4 = inverno);\n",
        "*   Testes unificados em 1 única estação do ano;\n",
        "*   Treinos separados em 4 estações do ano;\n",
        "*   Período de Jan/2011 a Dez/2012.\n",
        "\n"
      ]
    },
    {
      "cell_type": "markdown",
      "metadata": {
        "id": "bjJ4FczMKrrq"
      },
      "source": [
        "# **Etapa 2 - Analisando e correlacionando dados**"
      ]
    },
    {
      "cell_type": "markdown",
      "metadata": {
        "id": "mkbGMlq5bro6"
      },
      "source": [
        "***Exemplo de dado obtido e manipulado em ambos bancos de dados importados***\n",
        "\n",
        "Média da velocidade do vento no período de coleta de dados da plataforma."
      ]
    },
    {
      "cell_type": "markdown",
      "metadata": {
        "id": "wFlOl5dhUwKZ"
      },
      "source": [
        "***Tabela Test***\n"
      ]
    },
    {
      "cell_type": "code",
      "metadata": {
        "id": "J1A0f85KQx0o"
      },
      "source": [
        "windspeed_mean = tabela_test[\"windspeed\"].mean()\n",
        "print('A velocidade média do vento no período de testes foi de: {:.2f}m/s'.format(windspeed_mean))"
      ],
      "execution_count": null,
      "outputs": []
    },
    {
      "cell_type": "markdown",
      "metadata": {
        "id": "2KuRaY0nU7R3"
      },
      "source": [
        "***Tabela Train***"
      ]
    },
    {
      "cell_type": "code",
      "metadata": {
        "colab": {
          "base_uri": "https://localhost:8080/"
        },
        "id": "TEN6FWpAU99B",
        "outputId": "0de18028-d3da-40ce-ff2d-99160b1be355"
      },
      "source": [
        "windspeed_mean = tabela_train[\"windspeed\"].mean()\n",
        "print('A velocidade média do vento no período de treinos foi de: {:.2f}m/s'.format(windspeed_mean))"
      ],
      "execution_count": 138,
      "outputs": [
        {
          "output_type": "stream",
          "text": [
            "A velocidade média do vento no período de treinos foi de: 12.80m/s\n"
          ],
          "name": "stdout"
        }
      ]
    },
    {
      "cell_type": "markdown",
      "metadata": {
        "id": "RaHEyWqYZQkv"
      },
      "source": [
        "### **Métricas de locação**\n"
      ]
    },
    {
      "cell_type": "markdown",
      "metadata": {
        "id": "IU9dCZkdZ0z3"
      },
      "source": [
        "\n",
        "\n",
        "*   Total de locações\n",
        "\n",
        "\n"
      ]
    },
    {
      "cell_type": "code",
      "metadata": {
        "colab": {
          "base_uri": "https://localhost:8080/"
        },
        "id": "cwIE_je4Z-R9",
        "outputId": "75f549a6-b8e2-45ba-b54c-92f1a0dc0a51"
      },
      "source": [
        "count_total = tabela_train[\"count\"].sum()\n",
        "print('Total de vezes que as bicicletas foram utilizadas em \\ntodas as estações foi de: {}'.format(count_total))"
      ],
      "execution_count": 241,
      "outputs": [
        {
          "output_type": "stream",
          "text": [
            "Total de vezes que as bicicletas foram utilizadas em \n",
            "todas as estações foi de: 2085476\n"
          ],
          "name": "stdout"
        }
      ]
    },
    {
      "cell_type": "markdown",
      "metadata": {
        "id": "xzg5HsTvdSj6"
      },
      "source": [
        "*   Locações de assinantes"
      ]
    },
    {
      "cell_type": "code",
      "metadata": {
        "colab": {
          "base_uri": "https://localhost:8080/"
        },
        "id": "GF0F0jmEdctK",
        "outputId": "243785e3-0c1e-4aee-be09-3d5e442b06a4"
      },
      "source": [
        "registered_total = tabela_train[\"registered\"].sum()\n",
        "print('Total de locações realizadas por assinantes recorrentes do serviço em \\ntodas as estações foi de: {}'.format(registered_total))"
      ],
      "execution_count": 240,
      "outputs": [
        {
          "output_type": "stream",
          "text": [
            "Total de locações realizadas por assinantes recorrentes do serviço em \n",
            "todas as estações foi de: 1693341\n"
          ],
          "name": "stdout"
        }
      ]
    },
    {
      "cell_type": "markdown",
      "metadata": {
        "id": "0vuTIeuHerrF"
      },
      "source": [
        "*   Locações casuais (não-assinantes)"
      ]
    },
    {
      "cell_type": "code",
      "metadata": {
        "colab": {
          "base_uri": "https://localhost:8080/"
        },
        "id": "Il08E1oKewzf",
        "outputId": "7af05157-86ac-4776-d6f9-b7380b44ab6d"
      },
      "source": [
        "casual_total = tabela_train[\"casual\"].sum()\n",
        "print('Total de locações realizadas por não-assinantes em \\ntodas as estações foi de: {}'.format(casual_total))"
      ],
      "execution_count": 242,
      "outputs": [
        {
          "output_type": "stream",
          "text": [
            "Total de locações realizadas por não-assinantes em \n",
            "todas as estações foi de: 392135\n"
          ],
          "name": "stdout"
        }
      ]
    },
    {
      "cell_type": "markdown",
      "metadata": {
        "id": "4Tho-yrjh19f"
      },
      "source": [
        "### **Análise Top -> Down**\n",
        "\n",
        "***Correlação entre o número total de locações realizadas e a estação do ano***"
      ]
    },
    {
      "cell_type": "markdown",
      "metadata": {
        "id": "qAj8FI4DhJqw"
      },
      "source": [
        "*   Locações totais por estação"
      ]
    },
    {
      "cell_type": "code",
      "metadata": {
        "colab": {
          "base_uri": "https://localhost:8080/",
          "height": 204
        },
        "id": "rOt086DZhfUf",
        "outputId": "4f633a99-5d31-4c9f-95ed-217a1754d702"
      },
      "source": [
        "count_per_season = tabela_train[[\"season\", \"count\"]].groupby(\"season\").sum()\n",
        "display(count_per_season)"
      ],
      "execution_count": 238,
      "outputs": [
        {
          "output_type": "display_data",
          "data": {
            "text/html": [
              "<div>\n",
              "<style scoped>\n",
              "    .dataframe tbody tr th:only-of-type {\n",
              "        vertical-align: middle;\n",
              "    }\n",
              "\n",
              "    .dataframe tbody tr th {\n",
              "        vertical-align: top;\n",
              "    }\n",
              "\n",
              "    .dataframe thead th {\n",
              "        text-align: right;\n",
              "    }\n",
              "</style>\n",
              "<table border=\"1\" class=\"dataframe\">\n",
              "  <thead>\n",
              "    <tr style=\"text-align: right;\">\n",
              "      <th></th>\n",
              "      <th>count</th>\n",
              "    </tr>\n",
              "    <tr>\n",
              "      <th>season</th>\n",
              "      <th></th>\n",
              "    </tr>\n",
              "  </thead>\n",
              "  <tbody>\n",
              "    <tr>\n",
              "      <th>1</th>\n",
              "      <td>312498</td>\n",
              "    </tr>\n",
              "    <tr>\n",
              "      <th>2</th>\n",
              "      <td>588282</td>\n",
              "    </tr>\n",
              "    <tr>\n",
              "      <th>3</th>\n",
              "      <td>640662</td>\n",
              "    </tr>\n",
              "    <tr>\n",
              "      <th>4</th>\n",
              "      <td>544034</td>\n",
              "    </tr>\n",
              "  </tbody>\n",
              "</table>\n",
              "</div>"
            ],
            "text/plain": [
              "         count\n",
              "season        \n",
              "1       312498\n",
              "2       588282\n",
              "3       640662\n",
              "4       544034"
            ]
          },
          "metadata": {
            "tags": []
          }
        }
      ]
    },
    {
      "cell_type": "markdown",
      "metadata": {
        "id": "FdyQ1P82mwcS"
      },
      "source": [
        "# **Etapa 3 - Exibição de gráficos**"
      ]
    },
    {
      "cell_type": "markdown",
      "metadata": {
        "id": "R8paRx0Qncn3"
      },
      "source": [
        "### Importando matplotlib para exibição de gráficos"
      ]
    },
    {
      "cell_type": "code",
      "metadata": {
        "id": "qbnrzDEBm2Ip"
      },
      "source": [
        "# importando matplotlib\n",
        "import matplotlib.pyplot as plt\n",
        "\n"
      ],
      "execution_count": 203,
      "outputs": []
    },
    {
      "cell_type": "markdown",
      "metadata": {
        "id": "OUFucGWDwS2g"
      },
      "source": [
        "### Criando um novo dataframe a partir da Tabela Train"
      ]
    },
    {
      "cell_type": "code",
      "metadata": {
        "colab": {
          "base_uri": "https://localhost:8080/",
          "height": 204
        },
        "id": "rmbgVZfnnueH",
        "outputId": "8105aecf-7047-45fd-c7b9-45c4cecd8af4"
      },
      "source": [
        "total_registers = tabela_train[['season', 'casual', 'registered', 'count']].groupby('season').sum()\n",
        "display(total_registers)"
      ],
      "execution_count": 185,
      "outputs": [
        {
          "output_type": "display_data",
          "data": {
            "text/html": [
              "<div>\n",
              "<style scoped>\n",
              "    .dataframe tbody tr th:only-of-type {\n",
              "        vertical-align: middle;\n",
              "    }\n",
              "\n",
              "    .dataframe tbody tr th {\n",
              "        vertical-align: top;\n",
              "    }\n",
              "\n",
              "    .dataframe thead th {\n",
              "        text-align: right;\n",
              "    }\n",
              "</style>\n",
              "<table border=\"1\" class=\"dataframe\">\n",
              "  <thead>\n",
              "    <tr style=\"text-align: right;\">\n",
              "      <th></th>\n",
              "      <th>casual</th>\n",
              "      <th>registered</th>\n",
              "      <th>count</th>\n",
              "    </tr>\n",
              "    <tr>\n",
              "      <th>season</th>\n",
              "      <th></th>\n",
              "      <th></th>\n",
              "      <th></th>\n",
              "    </tr>\n",
              "  </thead>\n",
              "  <tbody>\n",
              "    <tr>\n",
              "      <th>1</th>\n",
              "      <td>41605</td>\n",
              "      <td>270893</td>\n",
              "      <td>312498</td>\n",
              "    </tr>\n",
              "    <tr>\n",
              "      <th>2</th>\n",
              "      <td>129672</td>\n",
              "      <td>458610</td>\n",
              "      <td>588282</td>\n",
              "    </tr>\n",
              "    <tr>\n",
              "      <th>3</th>\n",
              "      <td>142718</td>\n",
              "      <td>497944</td>\n",
              "      <td>640662</td>\n",
              "    </tr>\n",
              "    <tr>\n",
              "      <th>4</th>\n",
              "      <td>78140</td>\n",
              "      <td>465894</td>\n",
              "      <td>544034</td>\n",
              "    </tr>\n",
              "  </tbody>\n",
              "</table>\n",
              "</div>"
            ],
            "text/plain": [
              "        casual  registered   count\n",
              "season                            \n",
              "1        41605      270893  312498\n",
              "2       129672      458610  588282\n",
              "3       142718      497944  640662\n",
              "4        78140      465894  544034"
            ]
          },
          "metadata": {
            "tags": []
          }
        }
      ]
    },
    {
      "cell_type": "markdown",
      "metadata": {
        "id": "z4Y650zcE_78"
      },
      "source": [
        "### Criando o gráfico a partir do novo dataframe\n"
      ]
    },
    {
      "cell_type": "code",
      "metadata": {
        "colab": {
          "base_uri": "https://localhost:8080/",
          "height": 367
        },
        "id": "5v2WsoFgFA59",
        "outputId": "62abb189-f331-49f6-a9ad-77ffb7827f26"
      },
      "source": [
        "df = total_registers.groupby('season')['casual', 'registered', 'count'].sum().plot(kind='line', legend='Reverse')\n",
        "plt.xlabel('Primavera                   Verão                       Outono                    Inverno')\n",
        "plt.ylabel('Bicicletas alugadas por estação')\n",
        "\n",
        "plt.show()"
      ],
      "execution_count": 282,
      "outputs": [
        {
          "output_type": "stream",
          "text": [
            "/usr/local/lib/python3.7/dist-packages/ipykernel_launcher.py:1: FutureWarning:\n",
            "\n",
            "Indexing with multiple keys (implicitly converted to a tuple of keys) will be deprecated, use a list instead.\n",
            "\n"
          ],
          "name": "stderr"
        },
        {
          "output_type": "display_data",
          "data": {
            "image/png": "[encoded data removed]",
            "text/plain": [
              "<Figure size 432x288 with 1 Axes>"
            ]
          },
          "metadata": {
            "tags": [],
            "needs_background": "light"
          }
        }
      ]
    },
    {
      "cell_type": "markdown",
      "metadata": {
        "id": "zT0bCX_iaC5c"
      },
      "source": [
        "# **Etapa 4 - Conclusões finais**"
      ]
    },
    {
      "cell_type": "markdown",
      "metadata": {
        "id": "q6gPFO6taGuP"
      },
      "source": [
        "\n",
        "\n",
        "*   1 - Durante as estações mais quentes e secas há substancial aumento da demanda;\n",
        "*   2 - Sugere-se maior empenho no marketing com foco em fidelização.\n",
        "\n"
      ]
    }
  ]
}